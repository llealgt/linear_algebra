{
  "nbformat": 4,
  "nbformat_minor": 0,
  "metadata": {
    "colab": {
      "name": "General inner products: lengths and distances.ipynb",
      "provenance": [],
      "authorship_tag": "ABX9TyPBc0bE8MXyXYNIrJFnznb/",
      "include_colab_link": true
    },
    "kernelspec": {
      "name": "python3",
      "display_name": "Python 3"
    }
  },
  "cells": [
    {
      "cell_type": "markdown",
      "metadata": {
        "id": "view-in-github",
        "colab_type": "text"
      },
      "source": [
        "<a href=\"https://colab.research.google.com/github/llealgt/linear_algebra/blob/master/General_inner_products_lengths_and_distances.ipynb\" target=\"_parent\"><img src=\"https://colab.research.google.com/assets/colab-badge.svg\" alt=\"Open In Colab\"/></a>"
      ]
    },
    {
      "cell_type": "markdown",
      "metadata": {
        "id": "YJGGpQzQX7zl",
        "colab_type": "text"
      },
      "source": [
        "# General inner products: lengths and distances\n",
        "\n",
        "The dot product is a specific case of the more general \"inner product\", the following are some exercises for practicing working with general inner products."
      ]
    },
    {
      "cell_type": "code",
      "metadata": {
        "id": "_iCHltKwXmwA",
        "colab_type": "code",
        "colab": {}
      },
      "source": [
        "import numpy as np"
      ],
      "execution_count": 0,
      "outputs": []
    },
    {
      "cell_type": "markdown",
      "metadata": {
        "id": "ozXqcTqoW112",
        "colab_type": "text"
      },
      "source": [
        "Compute the lenght of \n",
        "\n",
        "$\\mathbf{x} = \\begin{bmatrix}1\\\\-1\\\\3\\end{bmatrix}$\n",
        "\n",
        "Using the inner product $\\langle \\mathbf{a}, \\mathbf{b}\\rangle = \\mathbf{a}^T \\begin{bmatrix} 2 & 1 & 0\\\\1 & 2 & -1\\\\0 & -1 & 2\\end{bmatrix}\\mathbf{b}$"
      ]
    },
    {
      "cell_type": "code",
      "metadata": {
        "id": "5WWlWHFPW0-6",
        "colab_type": "code",
        "colab": {
          "base_uri": "https://localhost:8080/",
          "height": 34
        },
        "outputId": "a5960c04-817e-470e-90e0-890a4ed5b596"
      },
      "source": [
        "x = np.array([1,-1,3])\n",
        "A = np.array([\n",
        "              [2,1,0],\n",
        "              [1,2,-1],\n",
        "              [0,-1,2]])\n",
        "np.sqrt(np.matmul(x.T,np.matmul(A,x)))"
      ],
      "execution_count": 5,
      "outputs": [
        {
          "output_type": "execute_result",
          "data": {
            "text/plain": [
              "5.0990195135927845"
            ]
          },
          "metadata": {
            "tags": []
          },
          "execution_count": 5
        }
      ]
    },
    {
      "cell_type": "code",
      "metadata": {
        "id": "Odfj1yFSXlbO",
        "colab_type": "code",
        "colab": {}
      },
      "source": [
        ""
      ],
      "execution_count": 0,
      "outputs": []
    }
  ]
}