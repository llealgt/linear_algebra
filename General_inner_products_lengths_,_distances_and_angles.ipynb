{
  "nbformat": 4,
  "nbformat_minor": 0,
  "metadata": {
    "colab": {
      "name": "General inner products: lengths , distances and angles.ipynb",
      "provenance": [],
      "collapsed_sections": [],
      "authorship_tag": "ABX9TyNrae3ZPu8IU6TWvLXP6EAX",
      "include_colab_link": true
    },
    "kernelspec": {
      "name": "python3",
      "display_name": "Python 3"
    }
  },
  "cells": [
    {
      "cell_type": "markdown",
      "metadata": {
        "id": "view-in-github",
        "colab_type": "text"
      },
      "source": [
        "<a href=\"https://colab.research.google.com/github/llealgt/linear_algebra/blob/master/General_inner_products_lengths_%2C_distances_and_angles.ipynb\" target=\"_parent\"><img src=\"https://colab.research.google.com/assets/colab-badge.svg\" alt=\"Open In Colab\"/></a>"
      ]
    },
    {
      "cell_type": "markdown",
      "metadata": {
        "id": "YJGGpQzQX7zl",
        "colab_type": "text"
      },
      "source": [
        "# General inner products: lengths and distances\n",
        "\n",
        "The dot product is a specific case of the more general \"inner product\", the following are some exercises for practicing working with general inner products."
      ]
    },
    {
      "cell_type": "code",
      "metadata": {
        "id": "_iCHltKwXmwA",
        "colab_type": "code",
        "colab": {}
      },
      "source": [
        "import numpy as np\n",
        "import matplotlib.pyplot as plt\n"
      ],
      "execution_count": 0,
      "outputs": []
    },
    {
      "cell_type": "markdown",
      "metadata": {
        "id": "ozXqcTqoW112",
        "colab_type": "text"
      },
      "source": [
        "Compute the lenght of \n",
        "\n",
        "$\\mathbf{x} = \\begin{bmatrix}1\\\\-1\\\\3\\end{bmatrix}$\n",
        "\n",
        "Using the inner product $\\langle \\mathbf{a}, \\mathbf{b}\\rangle = \\mathbf{a}^T \\begin{bmatrix} 2 & 1 & 0\\\\1 & 2 & -1\\\\0 & -1 & 2\\end{bmatrix}\\mathbf{b}$"
      ]
    },
    {
      "cell_type": "code",
      "metadata": {
        "id": "5WWlWHFPW0-6",
        "colab_type": "code",
        "colab": {
          "base_uri": "https://localhost:8080/",
          "height": 34
        },
        "outputId": "553e4d60-9a2a-4966-819f-34c1827dcfa8"
      },
      "source": [
        "x = np.array([1,-1,3])\n",
        "A = np.array([\n",
        "              [2,1,0],\n",
        "              [1,2,-1],\n",
        "              [0,-1,2]])\n",
        "np.sqrt(np.matmul(x.T,np.matmul(A,x)))"
      ],
      "execution_count": 2,
      "outputs": [
        {
          "output_type": "execute_result",
          "data": {
            "text/plain": [
              "5.0990195135927845"
            ]
          },
          "metadata": {
            "tags": []
          },
          "execution_count": 2
        }
      ]
    },
    {
      "cell_type": "markdown",
      "metadata": {
        "id": "uRDezp_e255F",
        "colab_type": "text"
      },
      "source": [
        "## Angles between vectors using a non-standard inner product\n",
        "\n",
        "1) "
      ]
    },
    {
      "cell_type": "code",
      "metadata": {
        "id": "BcRqk7rM6ZJq",
        "colab_type": "code",
        "colab": {
          "base_uri": "https://localhost:8080/",
          "height": 269
        },
        "outputId": "38e00972-160e-4762-849c-43e8f7e6020b"
      },
      "source": [
        "x = np.array([1,1])\n",
        "y = np.array([-1,1])\n",
        "\n",
        "vectors = np.array([x,y])\n",
        "\n",
        "\n",
        "\n",
        "for i in range(vectors.shape[0]):\n",
        "  plt.arrow(0,0,vectors[i,0],vectors[i,1])\n",
        "plt.scatter(vectors[:,0],vectors[:,1])\n",
        "plt.xlim(-2,2)\n",
        "plt.ylim(-2,2)\n",
        "plt.grid()\n",
        "plt.show()"
      ],
      "execution_count": 3,
      "outputs": [
        {
          "output_type": "display_data",
          "data": {
            "image/png": "[encoded data removed]",
            "text/plain": [
              "<Figure size 432x288 with 1 Axes>"
            ]
          },
          "metadata": {
            "tags": [],
            "needs_background": "light"
          }
        }
      ]
    },
    {
      "cell_type": "code",
      "metadata": {
        "id": "Odfj1yFSXlbO",
        "colab_type": "code",
        "colab": {
          "base_uri": "https://localhost:8080/",
          "height": 51
        },
        "outputId": "d54e62f1-fafb-496e-b753-f1b1434ec1bd"
      },
      "source": [
        "A = np.array([[2,-1],[-1,4]])\n",
        "\n",
        "norm_x = np.sqrt(np.matmul(x.T,np.matmul(A,x)))\n",
        "norm_y = np.sqrt(np.matmul(y.T,np.matmul(A,y)))\n",
        "\n",
        "cos_angle = np.matmul(x.T,np.matmul(A,y))/(norm_x*norm_y)\n",
        "angle = np.arccos(cos_angle)\n",
        "\n",
        "print(cos_angle)\n",
        "print(\"{} radians\".format(angle))"
      ],
      "execution_count": 4,
      "outputs": [
        {
          "output_type": "stream",
          "text": [
            "0.35355339059327373\n",
            "1.2094292028881888 radians\n"
          ],
          "name": "stdout"
        }
      ]
    },
    {
      "cell_type": "code",
      "metadata": {
        "id": "0fGMJUZh3ulA",
        "colab_type": "code",
        "colab": {
          "base_uri": "https://localhost:8080/",
          "height": 34
        },
        "outputId": "cddf747e-08db-470b-e27d-2e9bcada9dbc"
      },
      "source": [
        "np.arccos(1)"
      ],
      "execution_count": 5,
      "outputs": [
        {
          "output_type": "execute_result",
          "data": {
            "text/plain": [
              "0.0"
            ]
          },
          "metadata": {
            "tags": []
          },
          "execution_count": 5
        }
      ]
    },
    {
      "cell_type": "markdown",
      "metadata": {
        "id": "CrkFW19GHvSb",
        "colab_type": "text"
      },
      "source": [
        "2)"
      ]
    },
    {
      "cell_type": "code",
      "metadata": {
        "id": "D1YJAMT14wMq",
        "colab_type": "code",
        "colab": {
          "base_uri": "https://localhost:8080/",
          "height": 269
        },
        "outputId": "de400ad6-c5bf-4edc-e4ec-5d3763098c51"
      },
      "source": [
        "x = np.array([0,-1])\n",
        "y = np.array([1,1])\n",
        "\n",
        "vectors = np.array([x,y])\n",
        "\n",
        "for i in range(vectors.shape[0]):\n",
        "  plt.arrow(0,0,vectors[i,0],vectors[i,1])\n",
        "plt.scatter(vectors[:,0],vectors[:,1])\n",
        "\n",
        "plt.xlim(-2,2)\n",
        "plt.ylim(-2,2)\n",
        "plt.show()"
      ],
      "execution_count": 6,
      "outputs": [
        {
          "output_type": "display_data",
          "data": {
            "image/png": "[encoded data removed]",
            "text/plain": [
              "<Figure size 432x288 with 1 Axes>"
            ]
          },
          "metadata": {
            "tags": [],
            "needs_background": "light"
          }
        }
      ]
    },
    {
      "cell_type": "code",
      "metadata": {
        "id": "GVDsnNSGJSFu",
        "colab_type": "code",
        "colab": {
          "base_uri": "https://localhost:8080/",
          "height": 34
        },
        "outputId": "5c341852-f6d5-403b-eb7f-33bd9d649860"
      },
      "source": [
        "A = np.array([[1,-1/2],[-1/2,5]])\n",
        "\n",
        "x_norm = np.sqrt(np.matmul(x.T,np.matmul(A,x)))\n",
        "y_norm = np.sqrt(np.matmul(y.T,np.matmul(A,y)))\n",
        "\n",
        "cos_angle = np.matmul(x.T,np.matmul(A,y))/(x_norm*y_norm)\n",
        "angle = np.arccos(cos_angle)\n",
        "\n",
        "print(\"{} radians\".format(angle))"
      ],
      "execution_count": 7,
      "outputs": [
        {
          "output_type": "stream",
          "text": [
            "2.6905658417935303 radians\n"
          ],
          "name": "stdout"
        }
      ]
    },
    {
      "cell_type": "markdown",
      "metadata": {
        "id": "nfVuXqi-3v3h",
        "colab_type": "text"
      },
      "source": [
        "3)"
      ]
    },
    {
      "cell_type": "code",
      "metadata": {
        "id": "4xjiq93NJwXN",
        "colab_type": "code",
        "colab": {
          "base_uri": "https://localhost:8080/",
          "height": 265
        },
        "outputId": "0021141a-6aaf-4c98-bfc2-651b0ecf34b5"
      },
      "source": [
        "x = np.array([2,2])\n",
        "y = np.array([-2,-2])\n",
        "\n",
        "vectors = np.array([x,y])\n",
        "\n",
        "for i in range(vectors.shape[0]):\n",
        "  plt.arrow(0,0,vectors[i,0],vectors[i,1])\n",
        "plt.scatter(vectors[:,0],vectors[:,1])\n",
        "\n",
        "plt.grid()\n",
        "\n",
        "plt.show()\n"
      ],
      "execution_count": 8,
      "outputs": [
        {
          "output_type": "display_data",
          "data": {
            "image/png": "[encoded data removed]",
            "text/plain": [
              "<Figure size 432x288 with 1 Axes>"
            ]
          },
          "metadata": {
            "tags": [],
            "needs_background": "light"
          }
        }
      ]
    },
    {
      "cell_type": "code",
      "metadata": {
        "id": "2625t7aBPCDt",
        "colab_type": "code",
        "colab": {
          "base_uri": "https://localhost:8080/",
          "height": 34
        },
        "outputId": "797d7c43-8739-4773-8b89-8a9e85f40dc1"
      },
      "source": [
        "A = np.array([[2,1],[1,4]])\n",
        "\n",
        "x_norm = np.sqrt(np.matmul(x.T,np.matmul(A,x)))\n",
        "y_norm = np.sqrt(np.matmul(y.T,np.matmul(A,y)))\n",
        "\n",
        "angle_cos = np.matmul(x.T,np.matmul(A,y))/(x_norm*y_norm)\n",
        "angle = np.arccos(angle_cos)\n",
        "\n",
        "print(\"{} radians\".format(angle))"
      ],
      "execution_count": 9,
      "outputs": [
        {
          "output_type": "stream",
          "text": [
            "3.1415926325163688 radians\n"
          ],
          "name": "stdout"
        }
      ]
    },
    {
      "cell_type": "markdown",
      "metadata": {
        "id": "N006nr79ZM5W",
        "colab_type": "text"
      },
      "source": [
        "4)"
      ]
    },
    {
      "cell_type": "code",
      "metadata": {
        "id": "9dMz2HW2RqAI",
        "colab_type": "code",
        "colab": {
          "base_uri": "https://localhost:8080/",
          "height": 269
        },
        "outputId": "8f85a179-30d0-4c52-d269-a82b56ff4ea2"
      },
      "source": [
        "x = np.array([1,1])\n",
        "y = np.array([1,-1])\n",
        "\n",
        "vectors = np.array([x,y])\n",
        "\n",
        "for i in range(vectors.shape[0]):\n",
        "  plt.arrow(0,0,vectors[i,0],vectors[i,1])\n",
        "plt.scatter(vectors[:,0],vectors[:,1])\n",
        "\n",
        "plt.xlim(-2,2)\n",
        "plt.ylim(-2,2)\n",
        "plt.grid()\n",
        "\n",
        "plt.show()"
      ],
      "execution_count": 11,
      "outputs": [
        {
          "output_type": "display_data",
          "data": {
            "image/png": "[encoded data removed]",
            "text/plain": [
              "<Figure size 432x288 with 1 Axes>"
            ]
          },
          "metadata": {
            "tags": [],
            "needs_background": "light"
          }
        }
      ]
    },
    {
      "cell_type": "code",
      "metadata": {
        "id": "UNblMXxdauYQ",
        "colab_type": "code",
        "colab": {
          "base_uri": "https://localhost:8080/",
          "height": 34
        },
        "outputId": "a66b65d1-43d5-4751-acf3-abd12f877c22"
      },
      "source": [
        "A = np.array([\n",
        "              [1,0],\n",
        "              [0,5]\n",
        "])\n",
        "\n",
        "x_norm = np.sqrt(np.matmul(x.T,np.matmul(A,x)))\n",
        "y_norm = np.sqrt(np.matmul(y.T,np.matmul(A,y)))\n",
        "\n",
        "cos_angle = np.matmul(x.T,np.matmul(A,y))/(x_norm*y_norm)\n",
        "angle = np.arccos(cos_angle)\n",
        "\n",
        "print(\"{} radians\".format(angle))"
      ],
      "execution_count": 13,
      "outputs": [
        {
          "output_type": "stream",
          "text": [
            "2.300523983021863 radians\n"
          ],
          "name": "stdout"
        }
      ]
    },
    {
      "cell_type": "markdown",
      "metadata": {
        "id": "UeE_9YhQfKBo",
        "colab_type": "text"
      },
      "source": [
        "5)\n"
      ]
    },
    {
      "cell_type": "code",
      "metadata": {
        "id": "taB_mh1cfS79",
        "colab_type": "code",
        "colab": {
          "base_uri": "https://localhost:8080/",
          "height": 34
        },
        "outputId": "c7e628a7-1733-47f0-818a-6def9f7d9794"
      },
      "source": [
        "x = np.array([1,1,1])\n",
        "y = np.array([2,-1,0])\n",
        "\n",
        "A = np.array([\n",
        "              [1,0,0],\n",
        "              [0,2,-1],\n",
        "              [0,-1,3]\n",
        "])\n",
        "\n",
        "x_norm = np.sqrt(np.matmul(x.T,np.matmul(A,x)))\n",
        "y_norm = np.sqrt(np.matmul(y.T,np.matmul(A,y)))\n",
        "\n",
        "cos_angle = np.matmul(x.T,np.matmul(A,y))/(x_norm*y_norm)\n",
        "angle = np.arccos(cos_angle)\n",
        "\n",
        "print(\"{} radians\".format(angle))"
      ],
      "execution_count": 14,
      "outputs": [
        {
          "output_type": "stream",
          "text": [
            "1.3652273956337226 radians\n"
          ],
          "name": "stdout"
        }
      ]
    },
    {
      "cell_type": "code",
      "metadata": {
        "id": "g-duAeW1f_BH",
        "colab_type": "code",
        "colab": {}
      },
      "source": [
        ""
      ],
      "execution_count": 0,
      "outputs": []
    }
  ]
}