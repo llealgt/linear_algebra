{
 "cells": [
  {
   "cell_type": "markdown",
   "metadata": {},
   "source": [
    "Exercises about solving linear equations, part of week 3 of course: https://www.coursera.org/learn/linear-algebra-machine-learning"
   ]
  },
  {
   "cell_type": "code",
   "execution_count": 31,
   "metadata": {},
   "outputs": [],
   "source": [
    "import numpy as np"
   ]
  },
  {
   "cell_type": "markdown",
   "metadata": {},
   "source": [
    "You go to the shops on Monday and buy 1 apple, 1 banana, and 1 carrot; the whole transaction totals €15. On Tuesday you buy 3 apples, 2 bananas, 1 carrot, all for €28. Then on Wednesday 2 apples, 1 banana, 2 carrots, for €23.\n",
    "\n",
    "Construct a matrix and vector for this linear algebra system. That is, for\n",
    "\n",
    "$A[[a],[b],[c]]=[[sMon],[sTue],[sWed]]$\n",
    "Where aa, bb, cc, are the prices of apples, bananas, and carrots. And each ss is the total for that day.\n",
    "\n",
    "Fill in the components of AA and s."
   ]
  },
  {
   "cell_type": "code",
   "execution_count": 22,
   "metadata": {},
   "outputs": [],
   "source": [
    "# Replace A and s with the correct values below:\n",
    "A = [[1, 1, 1],\n",
    "     [3, 2, 1],\n",
    "     [2, 1, 2]]\n",
    "\n",
    "s = [[15], \n",
    "     [28], \n",
    "     [23]]"
   ]
  },
  {
   "cell_type": "markdown",
   "metadata": {},
   "source": [
    "convert the system to echelon form. I.e.,\n",
    "\n",
    "\n"
   ]
  },
  {
   "cell_type": "code",
   "execution_count": 12,
   "metadata": {},
   "outputs": [
    {
     "name": "stdout",
     "output_type": "stream",
     "text": [
      "[[ 1  1  1 15]\n",
      " [ 3  2  1 28]\n",
      " [ 2  1  2 23]]\n"
     ]
    }
   ],
   "source": [
    "A_augmented = np.hstack((A,s))\n",
    "A1 = A_augmented[0]\n",
    "A2 = A_augmented[1]\n",
    "A3 = A_augmented[2]\n",
    "print(A_augmented)"
   ]
  },
  {
   "cell_type": "code",
   "execution_count": 13,
   "metadata": {},
   "outputs": [
    {
     "name": "stdout",
     "output_type": "stream",
     "text": [
      "[ 2  1  2 23]\n",
      "[ 3  2  1 28]\n",
      "[ 1  1  1 15]\n"
     ]
    }
   ],
   "source": [
    "A1,A3 = A3,A1\n",
    "\n",
    "print(A1)\n",
    "print(A2)\n",
    "print(A3)"
   ]
  },
  {
   "cell_type": "code",
   "execution_count": 14,
   "metadata": {},
   "outputs": [
    {
     "name": "stdout",
     "output_type": "stream",
     "text": [
      "[ 2  1  2 23]\n",
      "[ 3  2  1 28]\n",
      "[-0.5  0.   0.5  1. ]\n"
     ]
    }
   ],
   "source": [
    "A3 = A3 - A2/2 \n",
    "\n",
    "print(A1)\n",
    "print(A2)\n",
    "print(A3)"
   ]
  },
  {
   "cell_type": "code",
   "execution_count": 15,
   "metadata": {},
   "outputs": [
    {
     "name": "stdout",
     "output_type": "stream",
     "text": [
      "[ 2  1  2 23]\n",
      "[ 0.  2.  4. 34.]\n",
      "[-0.5  0.   0.5  1. ]\n"
     ]
    }
   ],
   "source": [
    "A2 = A2 + 6*A3\n",
    "\n",
    "print(A1)\n",
    "print(A2)\n",
    "print(A3)"
   ]
  },
  {
   "cell_type": "code",
   "execution_count": 16,
   "metadata": {},
   "outputs": [
    {
     "name": "stdout",
     "output_type": "stream",
     "text": [
      "[ 2  1  2 23]\n",
      "[ 0.  2.  4. 34.]\n",
      "[ 0.  1.  4. 27.]\n"
     ]
    }
   ],
   "source": [
    "A3 = A1 + 4*A3\n",
    "\n",
    "print(A1)\n",
    "print(A2)\n",
    "print(A3)"
   ]
  },
  {
   "cell_type": "code",
   "execution_count": 17,
   "metadata": {},
   "outputs": [
    {
     "name": "stdout",
     "output_type": "stream",
     "text": [
      "[ 2  1  2 23]\n",
      "[ 0.  2.  4. 34.]\n",
      "[  0.   0.  -4. -20.]\n"
     ]
    }
   ],
   "source": [
    "A3 = A2 - 2*A3\n",
    "\n",
    "print(A1)\n",
    "print(A2)\n",
    "print(A3)"
   ]
  },
  {
   "cell_type": "code",
   "execution_count": 18,
   "metadata": {},
   "outputs": [
    {
     "name": "stdout",
     "output_type": "stream",
     "text": [
      "[ 2  1  2 23]\n",
      "[ 0.  2.  4. 34.]\n",
      "[-0. -0.  1.  5.]\n"
     ]
    }
   ],
   "source": [
    "A3 = A3*(-1/4)\n",
    "\n",
    "print(A1)\n",
    "print(A2)\n",
    "print(A3)"
   ]
  },
  {
   "cell_type": "code",
   "execution_count": 19,
   "metadata": {},
   "outputs": [
    {
     "name": "stdout",
     "output_type": "stream",
     "text": [
      "[ 2  1  2 23]\n",
      "[ 0.  1.  2. 17.]\n",
      "[-0. -0.  1.  5.]\n"
     ]
    }
   ],
   "source": [
    "A2 = A2/2\n",
    "\n",
    "print(A1)\n",
    "print(A2)\n",
    "print(A3)"
   ]
  },
  {
   "cell_type": "code",
   "execution_count": 20,
   "metadata": {},
   "outputs": [
    {
     "name": "stdout",
     "output_type": "stream",
     "text": [
      "[ 1.   0.5  1.  11.5]\n",
      "[ 0.  1.  2. 17.]\n",
      "[-0. -0.  1.  5.]\n"
     ]
    }
   ],
   "source": [
    "A1 = A1/2\n",
    "\n",
    "print(A1)\n",
    "print(A2)\n",
    "print(A3)"
   ]
  },
  {
   "cell_type": "code",
   "execution_count": 23,
   "metadata": {},
   "outputs": [
    {
     "name": "stdout",
     "output_type": "stream",
     "text": [
      "3.0 7.0 5.0\n"
     ]
    }
   ],
   "source": [
    "c = A3[3]\n",
    "b = (A2[3]  - c*A2[2])/A2[1]\n",
    "a = (A1[3]  - c*A1[2] - b*A1[1])/A1[0]\n",
    "\n",
    "print(a,b,c)"
   ]
  },
  {
   "cell_type": "markdown",
   "metadata": {},
   "source": [
    "If every week, you go to the shops and buy the same amount of apples, bananas, and oranges on Monday, Tuesday, and Wednesday; and every week you get a new list of daily totals - then you should solve the system in general.\n",
    "\n",
    "That is, find the inverse of the matrix you used in Question 1."
   ]
  },
  {
   "cell_type": "code",
   "execution_count": 26,
   "metadata": {},
   "outputs": [
    {
     "name": "stdout",
     "output_type": "stream",
     "text": [
      "[[-1.5  0.5  0.5]\n",
      " [ 2.   0.  -1. ]\n",
      " [ 0.5 -0.5  0.5]]\n"
     ]
    }
   ],
   "source": [
    "A_inv = np.round(np.linalg.inv(A),2)\n",
    "\n",
    "print(A_inv)"
   ]
  },
  {
   "cell_type": "markdown",
   "metadata": {},
   "source": [
    "In general, one shouldn't calculate the inverse of a matrix unless absolutely necessary. It is more computationally efficient to solve the linear algebra system if that is all you need.\n",
    "\n",
    "Use this code block to solve the following linear system with numpy. Ar=s,\n",
    "\n",
    "$[[4, 6, 2],\n",
    "     [3, 4, 1],\n",
    "     [2, 8, 13]]\n",
    "     [[a],[b],[c]] = [[9],[7],[2]]\n",
    "$\n"
   ]
  },
  {
   "cell_type": "code",
   "execution_count": 27,
   "metadata": {},
   "outputs": [],
   "source": [
    "A = [[4, 6, 2],\n",
    "     [3, 4, 1],\n",
    "     [2, 8, 13]]\n",
    "\n",
    "s = [9, 7, 2]"
   ]
  },
  {
   "cell_type": "code",
   "execution_count": 29,
   "metadata": {},
   "outputs": [
    {
     "name": "stdout",
     "output_type": "stream",
     "text": [
      "[ 3.  -0.5 -0. ]\n"
     ]
    }
   ],
   "source": [
    "r = np.round(np.linalg.solve(A,s),2)\n",
    "\n",
    "print(r)"
   ]
  },
  {
   "cell_type": "code",
   "execution_count": null,
   "metadata": {},
   "outputs": [],
   "source": []
  }
 ],
 "metadata": {
  "kernelspec": {
   "display_name": "Python 3",
   "language": "python",
   "name": "python3"
  },
  "language_info": {
   "codemirror_mode": {
    "name": "ipython",
    "version": 3
   },
   "file_extension": ".py",
   "mimetype": "text/x-python",
   "name": "python",
   "nbconvert_exporter": "python",
   "pygments_lexer": "ipython3",
   "version": "3.7.6"
  }
 },
 "nbformat": 4,
 "nbformat_minor": 4
}
