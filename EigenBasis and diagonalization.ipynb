{
 "cells": [
  {
   "cell_type": "markdown",
   "metadata": {},
   "source": [
    "References :\n",
    "* https://www.youtube.com/watch?v=PFDu9oVAE-g\n",
    "* https://www.youtube.com/watch?v=EJG6gBeVdfw\n",
    "* https://intuitive-math.club/linear-algebra/eigenbasis/\n",
    "\n",
    "Based on homework for week 5 of course : https://www.coursera.org/learn/linear-algebra-machine-learning"
   ]
  },
  {
   "cell_type": "code",
   "execution_count": 1,
   "metadata": {},
   "outputs": [],
   "source": [
    "import numpy as np"
   ]
  },
  {
   "cell_type": "markdown",
   "metadata": {},
   "source": [
    "In this quiz you will diagonalise some matrices and apply this to simplify calculations"
   ]
  },
  {
   "cell_type": "markdown",
   "metadata": {},
   "source": [
    "## 1. \n",
    "\n",
    "Given the matrix $T=\n",
    "\\begin{pmatrix}6&−1\\\\2 & 3\\end{pmatrix}$ and change of basis matrix $C=\\begin{pmatrix}1 & 1\\\\1 & 2 \\end{pmatrix}$ (whose columns are eigenvectors of $T$), calculate the diagonal matrix $D = C^{-1}TC$"
   ]
  },
  {
   "cell_type": "code",
   "execution_count": 10,
   "metadata": {},
   "outputs": [
    {
     "data": {
      "text/plain": [
       "matrix([[5., 0.],\n",
       "        [0., 4.]])"
      ]
     },
     "execution_count": 10,
     "metadata": {},
     "output_type": "execute_result"
    }
   ],
   "source": [
    "T = np.matrix([[6,-1],\n",
    "               [2,3]])\n",
    "\n",
    "C_eigbasis = np.matrix(([1,1],\n",
    "                        [1,2]))\n",
    "\n",
    "C_eigbasis_inv = np.linalg.inv(C_eigbasis)\n",
    "\n",
    "D = np.matmul(   C_eigbasis_inv, np.matmul(T,C_eigbasis))\n",
    "\n",
    "D"
   ]
  },
  {
   "cell_type": "markdown",
   "metadata": {},
   "source": [
    "## 2. \n",
    "Given the matrix $T=\n",
    "\\begin{pmatrix}2 & 7 \\\\ 0 & -1  \\end{pmatrix}$\n",
    " and change of basis matrix $C = \\begin{pmatrix}7 & 1\\\\ -3 & 0   \\end{pmatrix}    $ (whose columns are eigenvectors of $T$), calculate the diagonal matrix $D = C^{-1}TC$."
   ]
  },
  {
   "cell_type": "code",
   "execution_count": 12,
   "metadata": {},
   "outputs": [
    {
     "data": {
      "text/plain": [
       "matrix([[-1.,  0.],\n",
       "        [ 0.,  2.]])"
      ]
     },
     "execution_count": 12,
     "metadata": {},
     "output_type": "execute_result"
    }
   ],
   "source": [
    "T = np.matrix([[2,7],\n",
    "               [0,-1]])\n",
    "C_eigbasis = np.matrix([[7,1],\n",
    "                        [-3,0]])\n",
    "C_eigbasis_inv = np.linalg.inv(C_eigbasis)\n",
    "D = np.matmul(C_eigbasis_inv, np.matmul(T,C_eigbasis))\n",
    "\n",
    "D"
   ]
  },
  {
   "cell_type": "markdown",
   "metadata": {},
   "source": [
    "## 3.\n",
    "Given the matrix $T=\n",
    "\\begin{pmatrix}1 & 0 \\\\ 2 & -1  \\end{pmatrix}$\n",
    " and change of basis matrix $C = \\begin{pmatrix}1 & 0\\\\ 1 & 1   \\end{pmatrix}    $ (whose columns are eigenvectors of $T$), calculate the diagonal matrix $D = C^{-1}TC$."
   ]
  },
  {
   "cell_type": "code",
   "execution_count": 18,
   "metadata": {},
   "outputs": [
    {
     "data": {
      "text/plain": [
       "matrix([[ 1.,  0.],\n",
       "        [ 0., -1.]])"
      ]
     },
     "execution_count": 18,
     "metadata": {},
     "output_type": "execute_result"
    }
   ],
   "source": [
    "T = np.matrix([[1,0],\n",
    "               [2,-1]])\n",
    "C_eigbasis = np.matrix([[1,0],\n",
    "                        [1,1]])\n",
    "\n",
    "C_eigbasis_inv = np.linalg.inv(C_eigbasis)\n",
    "\n",
    "D = np.matmul(C_eigbasis_inv,np.matmul(T,C_eigbasis))\n",
    "D"
   ]
  },
  {
   "cell_type": "markdown",
   "metadata": {},
   "source": [
    "## 4. \n",
    "Given that $T= \\begin{pmatrix}\n",
    "6 & -1\\\\\n",
    "2 & 3\n",
    "\\end{pmatrix}\n",
    "= \n",
    "\\begin{pmatrix}\n",
    "1 &  1\\\\\n",
    "1 &  2\n",
    "\\end{pmatrix}\n",
    "\\begin{pmatrix}\n",
    "5 &  0\\\\\n",
    "0 &  4\n",
    "\\end{pmatrix}\n",
    "\\begin{pmatrix}\n",
    "2 &  -1\\\\\n",
    "-1 &  1\n",
    "\\end{pmatrix}\n",
    "$, calculate $T^3$ \n",
    "\n",
    " ."
   ]
  },
  {
   "cell_type": "code",
   "execution_count": 24,
   "metadata": {},
   "outputs": [
    {
     "data": {
      "text/plain": [
       "matrix([[186., -61.],\n",
       "        [122.,   3.]])"
      ]
     },
     "execution_count": 24,
     "metadata": {},
     "output_type": "execute_result"
    }
   ],
   "source": [
    "D = np.diag([5,4])\n",
    "C_eigbasis = np.matrix([[1,1],\n",
    "                        [1,2]])\n",
    "C_eigbasis_inv = np.linalg.inv(C_eigbasis)\n",
    "\n",
    "T_cube =  np.matmul(    C_eigbasis,\n",
    "             np.matmul( np.power(D,3),\n",
    "                        C_eigbasis_inv\n",
    "                      )       \n",
    "                   )\n",
    "\n",
    "T_cube"
   ]
  },
  {
   "cell_type": "markdown",
   "metadata": {},
   "source": [
    "## 5. \n",
    "Given that $T= \\begin{pmatrix}\n",
    "2 & 7\\\\\n",
    "0 & -1\n",
    "\\end{pmatrix}\n",
    "= \n",
    "\\begin{pmatrix}\n",
    "7 &  1\\\\\n",
    "-3 &  0\n",
    "\\end{pmatrix}\n",
    "\\begin{pmatrix}\n",
    "-1 &  0\\\\\n",
    "0 &  2\n",
    "\\end{pmatrix}\n",
    "\\begin{pmatrix}\n",
    "0 &  -1/3\\\\\n",
    "1 &  7/3\n",
    "\\end{pmatrix}\n",
    "$, calculate $T^3$ \n",
    "\n",
    " .\n",
    " "
   ]
  },
  {
   "cell_type": "code",
   "execution_count": 27,
   "metadata": {},
   "outputs": [
    {
     "data": {
      "text/plain": [
       "matrix([[ 8., 21.],\n",
       "        [ 0., -1.]])"
      ]
     },
     "execution_count": 27,
     "metadata": {},
     "output_type": "execute_result"
    }
   ],
   "source": [
    "D = np.diag([-1,2])\n",
    "C_eigbasis = np.matrix([[7,1],\n",
    "                        [-3,0]])\n",
    "\n",
    "C_eigbasis_inv = np.linalg.inv(C_eigbasis)\n",
    "\n",
    "T_cube = np.matmul(C_eigbasis ,\n",
    "         np.matmul(np.power(D,3)    ,\n",
    "                   C_eigbasis_inv          ))\n",
    "\n",
    "T_cube"
   ]
  },
  {
   "cell_type": "markdown",
   "metadata": {},
   "source": [
    "## 6. \n",
    "Given that $T= \\begin{pmatrix}\n",
    "1 & 0\\\\\n",
    "2 & -1\n",
    "\\end{pmatrix}\n",
    "= \n",
    "\\begin{pmatrix}\n",
    "1 &  0\\\\\n",
    "1 &  1\n",
    "\\end{pmatrix}\n",
    "\\begin{pmatrix}\n",
    "1 &  0\\\\\n",
    "0 &  -1\n",
    "\\end{pmatrix}\n",
    "\\begin{pmatrix}\n",
    "1 &  0\\\\\n",
    "-1 &  1\n",
    "\\end{pmatrix}\n",
    "$, calculate $T^3$ \n",
    "\n",
    " .\n",
    " "
   ]
  },
  {
   "cell_type": "code",
   "execution_count": 29,
   "metadata": {},
   "outputs": [
    {
     "data": {
      "text/plain": [
       "matrix([[ 1.,  0.],\n",
       "        [ 2., -1.]])"
      ]
     },
     "execution_count": 29,
     "metadata": {},
     "output_type": "execute_result"
    }
   ],
   "source": [
    "D = np.diag([1,-1])\n",
    "C_eigbasis = np.matrix([[1,0],\n",
    "                        [1,1]])\n",
    "C_eigbasis_inv = np.linalg.inv(C_eigbasis)\n",
    "\n",
    "T_pow_5 = np.matmul(      C_eigbasis,\n",
    "              np.matmul(  np.power(D,5) ,\n",
    "                          C_eigbasis_inv))\n",
    "\n",
    "T_pow_5"
   ]
  },
  {
   "cell_type": "markdown",
   "metadata": {},
   "source": [
    "## Extra\n",
    "Create a general function that receives a matrix and a power (scalar) and returns the matrix powered to the given power using diagonalization through eigenbasis descomposition:"
   ]
  },
  {
   "cell_type": "code",
   "execution_count": 52,
   "metadata": {},
   "outputs": [
    {
     "data": {
      "text/plain": [
       "matrix([[34., -9.],\n",
       "        [18.,  7.]])"
      ]
     },
     "execution_count": 52,
     "metadata": {},
     "output_type": "execute_result"
    }
   ],
   "source": [
    "def matrix_power(matrix,power=2):\n",
    "    assert matrix.shape[0] == matrix.shape[1]\n",
    "    \n",
    "    matrix_dimension = matrix.shape[0]\n",
    "    eig_values,eig_vectors = np.linalg.eig(matrix)\n",
    "    \n",
    "    # if the matrix has more eigenvectors than it's dimension, use only the first n as basis\n",
    "    eig_values = eig_values[:matrix_dimension]\n",
    "    eig_basis = eig_vectors[:,:matrix_dimension]\n",
    "    \n",
    "    eig_basis_inv = np.linalg.inv(eig_basis)\n",
    "    \n",
    "    #create diagonal matrix of eigenvalues\n",
    "    diagonal_matrix = np.diag(eig_values)\n",
    "    \n",
    "    diagonal_matrix_powered = np.power(diagonal_matrix,power)\n",
    "    \n",
    "    powered_matrix = np.matmul(  eig_basis,\n",
    "                       np.matmul( diagonal_matrix_powered ,   \n",
    "                                  eig_basis_inv\n",
    "                                )         \n",
    "                                \n",
    "                                )\n",
    "    \n",
    "    return powered_matrix\n",
    "    \n",
    "matrix_power(T,2)"
   ]
  },
  {
   "cell_type": "markdown",
   "metadata": {},
   "source": [
    "Given that $T= \\begin{pmatrix}\n",
    "6 & -1\\\\\n",
    "2 & 3 \n",
    "\\end{pmatrix}$  calculate $T^3$ ."
   ]
  },
  {
   "cell_type": "code",
   "execution_count": 53,
   "metadata": {},
   "outputs": [
    {
     "data": {
      "text/plain": [
       "matrix([[186., -61.],\n",
       "        [122.,   3.]])"
      ]
     },
     "execution_count": 53,
     "metadata": {},
     "output_type": "execute_result"
    }
   ],
   "source": [
    "T = np.matrix([[6,-1],\n",
    "              [2,3]])\n",
    "\n",
    "matrix_power(T,3)"
   ]
  }
 ],
 "metadata": {
  "kernelspec": {
   "display_name": "Python 3",
   "language": "python",
   "name": "python3"
  },
  "language_info": {
   "codemirror_mode": {
    "name": "ipython",
    "version": 3
   },
   "file_extension": ".py",
   "mimetype": "text/x-python",
   "name": "python",
   "nbconvert_exporter": "python",
   "pygments_lexer": "ipython3",
   "version": "3.7.2"
  }
 },
 "nbformat": 4,
 "nbformat_minor": 2
}
