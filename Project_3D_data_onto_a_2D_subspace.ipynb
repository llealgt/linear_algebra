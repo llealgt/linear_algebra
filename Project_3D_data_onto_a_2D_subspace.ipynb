{
  "nbformat": 4,
  "nbformat_minor": 0,
  "metadata": {
    "colab": {
      "name": "Project 3D data onto a 2D subspace.ipynb",
      "provenance": [],
      "authorship_tag": "ABX9TyOE7041FAmsVDFc9L6d4yJj",
      "include_colab_link": true
    },
    "kernelspec": {
      "name": "python3",
      "display_name": "Python 3"
    }
  },
  "cells": [
    {
      "cell_type": "markdown",
      "metadata": {
        "id": "view-in-github",
        "colab_type": "text"
      },
      "source": [
        "<a href=\"https://colab.research.google.com/github/llealgt/linear_algebra/blob/master/Project_3D_data_onto_a_2D_subspace.ipynb\" target=\"_parent\"><img src=\"https://colab.research.google.com/assets/colab-badge.svg\" alt=\"Open In Colab\"/></a>"
      ]
    },
    {
      "cell_type": "markdown",
      "metadata": {
        "id": "OSnOzWsn0tCf",
        "colab_type": "text"
      },
      "source": [
        "#Project 3D data onto a 2D subspace"
      ]
    },
    {
      "cell_type": "code",
      "metadata": {
        "id": "hpMgidfwrA8q",
        "colab_type": "code",
        "colab": {}
      },
      "source": [
        "import numpy as np"
      ],
      "execution_count": 1,
      "outputs": []
    },
    {
      "cell_type": "markdown",
      "metadata": {
        "id": "KJBjIw8au8oA",
        "colab_type": "text"
      },
      "source": [
        "1. \n",
        "For a vector \\mathbf{x} =\n",
        "⎡⎣600⎤⎦\n",
        "x= \n",
        "⎣\n",
        "⎢\n",
        "⎡\n",
        "​\t\n",
        "  \n",
        "6\n",
        "0\n",
        "0\n",
        "​\t\n",
        "  \n",
        "⎦\n",
        "⎥\n",
        "⎤\n",
        "​\t\n",
        "  and the subspace UU spanned by the basis vectors \\mathbf{b}_1=\n",
        "⎡⎣111⎤⎦\n",
        "b \n",
        "1\n",
        "​\t\n",
        " = \n",
        "⎣\n",
        "⎢\n",
        "⎡\n",
        "​\t\n",
        "  \n",
        "1\n",
        "1\n",
        "1\n",
        "​\t\n",
        "  \n",
        "⎦\n",
        "⎥\n",
        "⎤\n",
        "​\t\n",
        "  and \\mathbf{b}_2=\n",
        "⎡⎣012⎤⎦\n",
        "b \n",
        "2\n",
        "​\t\n",
        " = \n",
        "⎣\n",
        "⎢\n",
        "⎡\n",
        "​\t\n",
        "  \n",
        "0\n",
        "1\n",
        "2\n",
        "​\t\n",
        "  \n",
        "⎦\n",
        "⎥\n",
        "⎤\n",
        "​\t\n",
        " , which of the following statements are true?"
      ]
    },
    {
      "cell_type": "code",
      "metadata": {
        "id": "H2quvd1ErDrv",
        "colab_type": "code",
        "colab": {
          "base_uri": "https://localhost:8080/",
          "height": 120
        },
        "outputId": "3fb67e0f-8ba2-4d3a-91b8-ee82a5614cca"
      },
      "source": [
        "b1 = np.array([[1,1,1]])\n",
        "b2 = np.array([[0,1,2]])\n",
        "B = np.concatenate((b1,b2),axis=0).T\n",
        "x = np.array([6,0,0])\n",
        "\n",
        "coord_matrix = np.matmul(np.linalg.inv(np.matmul(B.T,B)),B.T)\n",
        "B_coord = np.matmul(coord_matrix,x)\n",
        "proyection_matrix = np.matmul(B,coord_matrix)\n",
        "\n",
        "print(\"proy(x) in U basis coordinates: \",B_coord)\n",
        "print(\"proy(x) in original basis coordinates: \",np.matmul(B,B_coord))\n",
        "print(\"proyection matrix :\")\n",
        "print(proyection_matrix)\n"
      ],
      "execution_count": 22,
      "outputs": [
        {
          "output_type": "stream",
          "text": [
            "proy(x) in U basis coordinates:  [ 5. -3.]\n",
            "proy(x) in original basis coordinates:  [ 5.  2. -1.]\n",
            "proyection matrix :\n",
            "[[ 0.83333333  0.33333333 -0.16666667]\n",
            " [ 0.33333333  0.33333333  0.33333333]\n",
            " [-0.16666667  0.33333333  0.83333333]]\n"
          ],
          "name": "stdout"
        }
      ]
    },
    {
      "cell_type": "markdown",
      "metadata": {
        "id": "e2k8_fJmvFKh",
        "colab_type": "text"
      },
      "source": [
        "Project \n",
        "⎡⎣322⎤⎦\n",
        "⎣\n",
        "⎢\n",
        "⎡\n",
        "​\t\n",
        "  \n",
        "3\n",
        "2\n",
        "2\n",
        "​\t\n",
        "  \n",
        "⎦\n",
        "⎥\n",
        "⎤\n",
        "​\t\n",
        "  onto the subspace spanned by \n",
        "⎡⎣100⎤⎦\n",
        "⎣\n",
        "⎢\n",
        "⎡\n",
        "​\t\n",
        "  \n",
        "1\n",
        "0\n",
        "0\n",
        "​\t\n",
        "  \n",
        "⎦\n",
        "⎥\n",
        "⎤\n",
        "​\t\n",
        "  and \n",
        "⎡⎣011⎤⎦\n",
        "⎣\n",
        "⎢\n",
        "⎡\n",
        "​\t\n",
        "  \n",
        "0\n",
        "1\n",
        "1\n",
        "​\t\n",
        "  \n",
        "⎦\n",
        "⎥\n",
        "⎤\n",
        "​\t\n",
        " ."
      ]
    },
    {
      "cell_type": "code",
      "metadata": {
        "id": "4AC48dGFrs6Q",
        "colab_type": "code",
        "colab": {
          "base_uri": "https://localhost:8080/",
          "height": 86
        },
        "outputId": "5a445d60-63cc-45bf-ba47-123ec8638094"
      },
      "source": [
        "x = np.array([[3,2,2]]).T\n",
        "\n",
        "b1 = np.array([[1,0,0]]).T\n",
        "b2 = np.array([[0,1,1]]).T\n",
        "\n",
        "B = np.concatenate((b1,b2),axis = 1)\n",
        "\n",
        "coord_matrix = np.matmul(np.linalg.inv(np.matmul(B.T,B)),B.T)\n",
        "proyection_matrix = np.matmul(B,coord_matrix)\n",
        "proyection_x = np.matmul(proyection_matrix,x)\n",
        "\n",
        "print(\"Proyection of x:\")\n",
        "print(proyection_x)\n"
      ],
      "execution_count": 31,
      "outputs": [
        {
          "output_type": "stream",
          "text": [
            "Proyection of x:\n",
            "[[3.]\n",
            " [2.]\n",
            " [2.]]\n"
          ],
          "name": "stdout"
        }
      ]
    },
    {
      "cell_type": "markdown",
      "metadata": {
        "id": "Rc0OmVFLyKVm",
        "colab_type": "text"
      },
      "source": [
        "2 \n",
        "\n",
        "Project \n",
        "⎡⎣1200⎤⎦\n",
        "⎣\n",
        "⎢\n",
        "⎡\n",
        "​\t\n",
        "  \n",
        "12\n",
        "0\n",
        "0\n",
        "​\t\n",
        "  \n",
        "⎦\n",
        "⎥\n",
        "⎤\n",
        "​\t\n",
        "  onto the subspace U_1U \n",
        "1\n",
        "​\t\n",
        "  spanned by \n",
        "⎡⎣111⎤⎦\n",
        ",\n",
        "⎡⎣012⎤⎦\n",
        "⎣\n",
        "⎢\n",
        "⎡\n",
        "​\t\n",
        "  \n",
        "1\n",
        "1\n",
        "1\n",
        "​\t\n",
        "  \n",
        "⎦\n",
        "⎥\n",
        "⎤\n",
        "​\t\n",
        " , \n",
        "⎣\n",
        "⎢\n",
        "⎡\n",
        "​\t\n",
        "  \n",
        "0\n",
        "1\n",
        "2\n",
        "​\t\n",
        "  \n",
        "⎦\n",
        "⎥\n",
        "⎤\n",
        "​\t\n",
        " .\n",
        "Project the result from 1. onto the subspace spanned by \n",
        "⎡⎣⎢−106√−46√26√⎤⎦⎥\n",
        "⎣\n",
        "⎢\n",
        "⎡\n",
        "​\t\n",
        "  \n",
        "−10 \n",
        "6\n",
        "​\t\n",
        " \n",
        "−4 \n",
        "6\n",
        "​\t\n",
        " \n",
        "2 \n",
        "6\n",
        "​\t\n",
        " \n",
        "​\t\n",
        "  \n",
        "⎦\n",
        "⎥\n",
        "⎤\n",
        "​\t\n",
        " . What is the final projection?\n",
        "Hint: For step 2. you do not necessarily need to compute anything."
      ]
    },
    {
      "cell_type": "code",
      "metadata": {
        "id": "VppVQLurvbZN",
        "colab_type": "code",
        "colab": {
          "base_uri": "https://localhost:8080/",
          "height": 86
        },
        "outputId": "1575b6b0-6ca8-4959-b3a4-76bf1b83b6e6"
      },
      "source": [
        "x = np.array([[12,0,0]]).T\n",
        "\n",
        "b1 = np.array([[1,1,1]]).T\n",
        "b2 = np.array([[0,1,2]]).T\n",
        "B = np.concatenate((b1,b2),axis=1)\n",
        "\n",
        "coord_matrix = np.matmul(np.linalg.inv(np.matmul(B.T,B)),B.T)\n",
        "proyection_matrix = np.matmul(B,coord_matrix)\n",
        "proyection_x = np.matmul(proyection_matrix,x)\n",
        "\n",
        "print(\"proyection of x into U\")\n",
        "print(proyection_x)"
      ],
      "execution_count": 33,
      "outputs": [
        {
          "output_type": "stream",
          "text": [
            "proyection of x into U\n",
            "[[10.]\n",
            " [ 4.]\n",
            " [-2.]]\n"
          ],
          "name": "stdout"
        }
      ]
    },
    {
      "cell_type": "code",
      "metadata": {
        "id": "sFeFeGa-zOrK",
        "colab_type": "code",
        "colab": {}
      },
      "source": [
        ""
      ],
      "execution_count": null,
      "outputs": []
    }
  ]
}