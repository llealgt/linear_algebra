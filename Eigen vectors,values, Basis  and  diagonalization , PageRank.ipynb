{
 "cells": [
  {
   "cell_type": "markdown",
   "metadata": {},
   "source": [
    "References :\n",
    "* https://www.youtube.com/watch?v=PFDu9oVAE-g\n",
    "* https://www.youtube.com/watch?v=EJG6gBeVdfw\n",
    "* https://intuitive-math.club/linear-algebra/eigenbasis/\n",
    "\n",
    "Based on homework for week 5 of course : https://www.coursera.org/learn/linear-algebra-machine-learning"
   ]
  },
  {
   "cell_type": "code",
   "execution_count": 2,
   "metadata": {},
   "outputs": [],
   "source": [
    "import numpy as np"
   ]
  },
  {
   "cell_type": "markdown",
   "metadata": {},
   "source": [
    "In this quiz you will diagonalise some matrices and apply this to simplify calculations"
   ]
  },
  {
   "cell_type": "markdown",
   "metadata": {},
   "source": [
    "## 1. \n",
    "\n",
    "Given the matrix $T=\n",
    "\\begin{pmatrix}6&−1\\\\2 & 3\\end{pmatrix}$ and change of basis matrix $C=\\begin{pmatrix}1 & 1\\\\1 & 2 \\end{pmatrix}$ (whose columns are eigenvectors of $T$), calculate the diagonal matrix $D = C^{-1}TC$"
   ]
  },
  {
   "cell_type": "code",
   "execution_count": 3,
   "metadata": {},
   "outputs": [
    {
     "data": {
      "text/plain": [
       "matrix([[5., 0.],\n",
       "        [0., 4.]])"
      ]
     },
     "execution_count": 3,
     "metadata": {},
     "output_type": "execute_result"
    }
   ],
   "source": [
    "T = np.matrix([[6,-1],\n",
    "               [2,3]])\n",
    "\n",
    "C_eigbasis = np.matrix(([1,1],\n",
    "                        [1,2]))\n",
    "\n",
    "C_eigbasis_inv = np.linalg.inv(C_eigbasis)\n",
    "\n",
    "D = np.matmul(   C_eigbasis_inv, np.matmul(T,C_eigbasis))\n",
    "\n",
    "D"
   ]
  },
  {
   "cell_type": "markdown",
   "metadata": {},
   "source": [
    "## 2. \n",
    "Given the matrix $T=\n",
    "\\begin{pmatrix}2 & 7 \\\\ 0 & -1  \\end{pmatrix}$\n",
    " and change of basis matrix $C = \\begin{pmatrix}7 & 1\\\\ -3 & 0   \\end{pmatrix}    $ (whose columns are eigenvectors of $T$), calculate the diagonal matrix $D = C^{-1}TC$."
   ]
  },
  {
   "cell_type": "code",
   "execution_count": 4,
   "metadata": {},
   "outputs": [
    {
     "data": {
      "text/plain": [
       "matrix([[-1.,  0.],\n",
       "        [ 0.,  2.]])"
      ]
     },
     "execution_count": 4,
     "metadata": {},
     "output_type": "execute_result"
    }
   ],
   "source": [
    "T = np.matrix([[2,7],\n",
    "               [0,-1]])\n",
    "C_eigbasis = np.matrix([[7,1],\n",
    "                        [-3,0]])\n",
    "C_eigbasis_inv = np.linalg.inv(C_eigbasis)\n",
    "D = np.matmul(C_eigbasis_inv, np.matmul(T,C_eigbasis))\n",
    "\n",
    "D"
   ]
  },
  {
   "cell_type": "markdown",
   "metadata": {},
   "source": [
    "## 3.\n",
    "Given the matrix $T=\n",
    "\\begin{pmatrix}1 & 0 \\\\ 2 & -1  \\end{pmatrix}$\n",
    " and change of basis matrix $C = \\begin{pmatrix}1 & 0\\\\ 1 & 1   \\end{pmatrix}    $ (whose columns are eigenvectors of $T$), calculate the diagonal matrix $D = C^{-1}TC$."
   ]
  },
  {
   "cell_type": "code",
   "execution_count": 5,
   "metadata": {},
   "outputs": [
    {
     "data": {
      "text/plain": [
       "matrix([[ 1.,  0.],\n",
       "        [ 0., -1.]])"
      ]
     },
     "execution_count": 5,
     "metadata": {},
     "output_type": "execute_result"
    }
   ],
   "source": [
    "T = np.matrix([[1,0],\n",
    "               [2,-1]])\n",
    "C_eigbasis = np.matrix([[1,0],\n",
    "                        [1,1]])\n",
    "\n",
    "C_eigbasis_inv = np.linalg.inv(C_eigbasis)\n",
    "\n",
    "D = np.matmul(C_eigbasis_inv,np.matmul(T,C_eigbasis))\n",
    "D"
   ]
  },
  {
   "cell_type": "markdown",
   "metadata": {},
   "source": [
    "## 4. \n",
    "Given that $T= \\begin{pmatrix}\n",
    "6 & -1\\\\\n",
    "2 & 3\n",
    "\\end{pmatrix}\n",
    "= \n",
    "\\begin{pmatrix}\n",
    "1 &  1\\\\\n",
    "1 &  2\n",
    "\\end{pmatrix}\n",
    "\\begin{pmatrix}\n",
    "5 &  0\\\\\n",
    "0 &  4\n",
    "\\end{pmatrix}\n",
    "\\begin{pmatrix}\n",
    "2 &  -1\\\\\n",
    "-1 &  1\n",
    "\\end{pmatrix}\n",
    "$, calculate $T^3$ \n",
    "\n",
    " ."
   ]
  },
  {
   "cell_type": "code",
   "execution_count": 6,
   "metadata": {},
   "outputs": [
    {
     "data": {
      "text/plain": [
       "matrix([[186., -61.],\n",
       "        [122.,   3.]])"
      ]
     },
     "execution_count": 6,
     "metadata": {},
     "output_type": "execute_result"
    }
   ],
   "source": [
    "D = np.diag([5,4])\n",
    "C_eigbasis = np.matrix([[1,1],\n",
    "                        [1,2]])\n",
    "C_eigbasis_inv = np.linalg.inv(C_eigbasis)\n",
    "\n",
    "T_cube =  np.matmul(    C_eigbasis,\n",
    "             np.matmul( np.power(D,3),\n",
    "                        C_eigbasis_inv\n",
    "                      )       \n",
    "                   )\n",
    "\n",
    "T_cube"
   ]
  },
  {
   "cell_type": "markdown",
   "metadata": {},
   "source": [
    "## 5. \n",
    "Given that $T= \\begin{pmatrix}\n",
    "2 & 7\\\\\n",
    "0 & -1\n",
    "\\end{pmatrix}\n",
    "= \n",
    "\\begin{pmatrix}\n",
    "7 &  1\\\\\n",
    "-3 &  0\n",
    "\\end{pmatrix}\n",
    "\\begin{pmatrix}\n",
    "-1 &  0\\\\\n",
    "0 &  2\n",
    "\\end{pmatrix}\n",
    "\\begin{pmatrix}\n",
    "0 &  -1/3\\\\\n",
    "1 &  7/3\n",
    "\\end{pmatrix}\n",
    "$, calculate $T^3$ \n",
    "\n",
    " .\n",
    " "
   ]
  },
  {
   "cell_type": "code",
   "execution_count": 7,
   "metadata": {},
   "outputs": [
    {
     "data": {
      "text/plain": [
       "matrix([[ 8., 21.],\n",
       "        [ 0., -1.]])"
      ]
     },
     "execution_count": 7,
     "metadata": {},
     "output_type": "execute_result"
    }
   ],
   "source": [
    "D = np.diag([-1,2])\n",
    "C_eigbasis = np.matrix([[7,1],\n",
    "                        [-3,0]])\n",
    "\n",
    "C_eigbasis_inv = np.linalg.inv(C_eigbasis)\n",
    "\n",
    "T_cube = np.matmul(C_eigbasis ,\n",
    "         np.matmul(np.power(D,3)    ,\n",
    "                   C_eigbasis_inv          ))\n",
    "\n",
    "T_cube"
   ]
  },
  {
   "cell_type": "markdown",
   "metadata": {},
   "source": [
    "## 6. \n",
    "Given that $T= \\begin{pmatrix}\n",
    "1 & 0\\\\\n",
    "2 & -1\n",
    "\\end{pmatrix}\n",
    "= \n",
    "\\begin{pmatrix}\n",
    "1 &  0\\\\\n",
    "1 &  1\n",
    "\\end{pmatrix}\n",
    "\\begin{pmatrix}\n",
    "1 &  0\\\\\n",
    "0 &  -1\n",
    "\\end{pmatrix}\n",
    "\\begin{pmatrix}\n",
    "1 &  0\\\\\n",
    "-1 &  1\n",
    "\\end{pmatrix}\n",
    "$, calculate $T^3$ \n",
    "\n",
    " .\n",
    " "
   ]
  },
  {
   "cell_type": "code",
   "execution_count": 8,
   "metadata": {},
   "outputs": [
    {
     "data": {
      "text/plain": [
       "matrix([[ 1.,  0.],\n",
       "        [ 2., -1.]])"
      ]
     },
     "execution_count": 8,
     "metadata": {},
     "output_type": "execute_result"
    }
   ],
   "source": [
    "D = np.diag([1,-1])\n",
    "C_eigbasis = np.matrix([[1,0],\n",
    "                        [1,1]])\n",
    "C_eigbasis_inv = np.linalg.inv(C_eigbasis)\n",
    "\n",
    "T_pow_5 = np.matmul(      C_eigbasis,\n",
    "              np.matmul(  np.power(D,5) ,\n",
    "                          C_eigbasis_inv))\n",
    "\n",
    "T_pow_5"
   ]
  },
  {
   "cell_type": "markdown",
   "metadata": {},
   "source": [
    "## Extra\n",
    "Create a general function that receives a matrix and a power (scalar) and returns the matrix powered to the given power using diagonalization through eigenbasis descomposition:"
   ]
  },
  {
   "cell_type": "code",
   "execution_count": 9,
   "metadata": {},
   "outputs": [
    {
     "data": {
      "text/plain": [
       "matrix([[1., 0.],\n",
       "        [0., 1.]])"
      ]
     },
     "execution_count": 9,
     "metadata": {},
     "output_type": "execute_result"
    }
   ],
   "source": [
    "def matrix_power(matrix,power=2):\n",
    "    assert matrix.shape[0] == matrix.shape[1]\n",
    "    \n",
    "    matrix_dimension = matrix.shape[0]\n",
    "    eig_values,eig_vectors = np.linalg.eig(matrix)\n",
    "    \n",
    "    # if the matrix has more eigenvectors than it's dimension, use only the first n as basis\n",
    "    eig_values = eig_values[:matrix_dimension]\n",
    "    eig_basis = eig_vectors[:,:matrix_dimension]\n",
    "    \n",
    "    eig_basis_inv = np.linalg.inv(eig_basis)\n",
    "    \n",
    "    #create diagonal matrix of eigenvalues\n",
    "    diagonal_matrix = np.diag(eig_values)\n",
    "    \n",
    "    diagonal_matrix_powered = np.power(diagonal_matrix,power)\n",
    "    \n",
    "    powered_matrix = np.matmul(  eig_basis,\n",
    "                       np.matmul( diagonal_matrix_powered ,   \n",
    "                                  eig_basis_inv\n",
    "                                )         \n",
    "                                \n",
    "                                )\n",
    "    \n",
    "    return powered_matrix\n",
    "    \n",
    "matrix_power(T,2)"
   ]
  },
  {
   "cell_type": "markdown",
   "metadata": {},
   "source": [
    "Given that $T= \\begin{pmatrix}\n",
    "6 & -1\\\\\n",
    "2 & 3 \n",
    "\\end{pmatrix}$  calculate $T^3$ ."
   ]
  },
  {
   "cell_type": "code",
   "execution_count": 10,
   "metadata": {},
   "outputs": [
    {
     "data": {
      "text/plain": [
       "matrix([[186., -61.],\n",
       "        [122.,   3.]])"
      ]
     },
     "execution_count": 10,
     "metadata": {},
     "output_type": "execute_result"
    }
   ],
   "source": [
    "T = np.matrix([[6,-1],\n",
    "              [2,3]])\n",
    "\n",
    "matrix_power(T,3)"
   ]
  },
  {
   "cell_type": "markdown",
   "metadata": {},
   "source": [
    "## Final quiz"
   ]
  },
  {
   "cell_type": "markdown",
   "metadata": {},
   "source": [
    "### 1. \n",
    "To practice, select all eigenvectors of the matrix $A = \\begin{bmatrix}4 & -5 & 6 \\\\ 7 & -8 & 6 \\\\ 3/2 & -1/2 & -2\\end{bmatrix}$"
   ]
  },
  {
   "cell_type": "code",
   "execution_count": 25,
   "metadata": {},
   "outputs": [],
   "source": [
    "A = np.matrix([[4 , -5 , 6] , \n",
    "              [7 , -8 , 6] ,\n",
    "              [3/2 , -1/2 , -2]] )"
   ]
  },
  {
   "cell_type": "code",
   "execution_count": 26,
   "metadata": {},
   "outputs": [],
   "source": [
    "eig_val, eig_vec = np.linalg.eig(A)"
   ]
  },
  {
   "cell_type": "code",
   "execution_count": 27,
   "metadata": {},
   "outputs": [
    {
     "data": {
      "text/plain": [
       "array([ 1., -4., -3.])"
      ]
     },
     "execution_count": 27,
     "metadata": {},
     "output_type": "execute_result"
    }
   ],
   "source": [
    "eig_val"
   ]
  },
  {
   "cell_type": "code",
   "execution_count": 28,
   "metadata": {},
   "outputs": [
    {
     "data": {
      "text/plain": [
       "matrix([[-0.6882472 , -0.66666667,  0.40824829],\n",
       "        [-0.6882472 , -0.66666667, -0.40824829],\n",
       "        [-0.22941573,  0.33333333, -0.81649658]])"
      ]
     },
     "execution_count": 28,
     "metadata": {},
     "output_type": "execute_result"
    }
   ],
   "source": [
    "eig_vec"
   ]
  },
  {
   "cell_type": "markdown",
   "metadata": {},
   "source": [
    "### 2. \n",
    "\n",
    "Recall from the PageRank notebook, that in PageRank, we care about the eigenvector of the link matrix, $L$, that has eigenvalue 1, and that we can find this using power iteration method as this will be the largest eigenvalue.\n",
    "\n",
    "PageRank can sometimes get into trouble if closed-loop structures appear. A simplified example might look like this,\n",
    "\n",
    "<img src=\"https://d3c33hcgiwev3.cloudfront.net/imageAssetProxy.v1/95T5jO8QEeeFrgryCjqNWg_a7ac8d21dc15703802fb2166e3326101_loop.png?expiry=1585699200000&hmac=qqFNqoGyOuUp4LkixJjFQhsQ6H-3Py1W3vG9YfztLMw\">\n",
    "\n",
    "With link matrix, $L = \\begin{bmatrix} 0 & 0 & 0 & 1 \\\\ 1 & 0 & 0 & 0 \\\\ 0 & 1 & 0 & 0 \\\\ 0 & 0 & 1 & 0 \\end{bmatrix}$\n",
    "\n",
    "Calculate the eigenvalues and vectors for this system.\n",
    "\n",
    "What might be going wrong? Select all that apply."
   ]
  },
  {
   "cell_type": "code",
   "execution_count": 35,
   "metadata": {},
   "outputs": [
    {
     "name": "stdout",
     "output_type": "stream",
     "text": [
      "[[0. 0. 0. 1.]\n",
      " [1. 0. 0. 0.]\n",
      " [0. 1. 0. 0.]\n",
      " [0. 0. 1. 0.]]\n"
     ]
    }
   ],
   "source": [
    "L = np.eye(4,4,-1)\n",
    "L[0,-1] = 1\n",
    "print(L)"
   ]
  },
  {
   "cell_type": "code",
   "execution_count": 38,
   "metadata": {},
   "outputs": [
    {
     "name": "stdout",
     "output_type": "stream",
     "text": [
      "Eigen values:\n",
      "[-1.00000000e+00+0.j  8.32667268e-17+1.j  8.32667268e-17-1.j\n",
      "  1.00000000e+00+0.j]\n"
     ]
    }
   ],
   "source": [
    "eig_val ,eig_vec = np.linalg.eig(L)\n",
    "\n",
    "print(\"Eigen values:\")\n",
    "print(eig_val)"
   ]
  },
  {
   "cell_type": "code",
   "execution_count": 40,
   "metadata": {},
   "outputs": [
    {
     "name": "stdout",
     "output_type": "stream",
     "text": [
      "Eigen vectors:\n",
      "[[-0.5+0.j   0. -0.5j  0. +0.5j -0.5+0.j ]\n",
      " [ 0.5+0.j  -0.5+0.j  -0.5-0.j  -0.5+0.j ]\n",
      " [-0.5+0.j  -0. +0.5j -0. -0.5j -0.5+0.j ]\n",
      " [ 0.5+0.j   0.5+0.j   0.5-0.j  -0.5+0.j ]]\n"
     ]
    }
   ],
   "source": [
    "print(\"Eigen vectors:\")\n",
    "print(np.round(eig_vec,3))"
   ]
  },
  {
   "cell_type": "markdown",
   "metadata": {},
   "source": [
    "What might be going wrong? Select all that apply.\n",
    "\n",
    "\n",
    "* Other eigenvalues are not small compared to 1, and so do not decay away with each power iteration.\n",
    "\n",
    "    Correct\n",
    "    The other eigenvectors have the same size as 1 (they are -1, ii, -i−i)\n",
    "\n",
    "\n",
    "* The system is too small.\n",
    "\n",
    "\n",
    "* Some of the eigenvectors are complex.\n",
    "\n",
    "    This should not be selected\n",
    "    This isn't actually a problem, so long as the eigenvector with value 1 is purely real.\n",
    "\n",
    "\n",
    "* Because of the loop, Procrastinating Pats that are browsing will go around in a cycle rather than settling on a webpage.\n",
    "\n",
    "    Correct\n",
    "    If all sites started out populated equally, then the incoming pats would equal the outgoing, but in general the system will not converge to this result by applying power iteration.\n",
    "\n",
    "\n",
    "* None of the other options.\n"
   ]
  },
  {
   "cell_type": "markdown",
   "metadata": {},
   "source": [
    "### 3. \n",
    "The loop in the previous question is a situation that can be remedied by damping.\n",
    "\n",
    "If we replace the link matrix with the damped, $L' = \\begin{bmatrix} 0.1 & 0.1 & 0.1 & 0.7 \\\\ 0.7\n",
    " & 0.1 & 0.1 & 0.1 \\\\ 0.1 & 0.7 & 0.1 & 0.1 \\\\ 0.1 & 0.1 & 0.7 & 0.1 \\end{bmatrix}$, how does this help?"
   ]
  },
  {
   "cell_type": "code",
   "execution_count": 44,
   "metadata": {},
   "outputs": [
    {
     "name": "stdout",
     "output_type": "stream",
     "text": [
      "Eigen values:\n",
      "[ 1.0000000e+00+0.j  -6.0000000e-01+0.j  -1.2490009e-16+0.6j\n",
      " -1.2490009e-16-0.6j]\n"
     ]
    }
   ],
   "source": [
    "L_prime = np.matrix( [[0.1 , 0.1 , 0.1 , 0.7 ],\n",
    "[ 0.7, 0.1 , 0.1 , 0.1 ] ,\n",
    "[0.1 , 0.7 , 0.1 , 0.1 ] ,\n",
    "[0.1 , 0.1 , 0.7 , 0.1 ]])\n",
    "\n",
    "eig_val ,eig_vec = np.linalg.eig(L_prime)\n",
    "\n",
    "print(\"Eigen values:\")\n",
    "print(eig_val)"
   ]
  },
  {
   "cell_type": "code",
   "execution_count": 45,
   "metadata": {},
   "outputs": [
    {
     "name": "stdout",
     "output_type": "stream",
     "text": [
      "Eigen vectors:\n",
      "[[ 0.5+0.j   0.5+0.j   0.5+0.j   0.5-0.j ]\n",
      " [ 0.5+0.j  -0.5+0.j   0. -0.5j  0. +0.5j]\n",
      " [ 0.5+0.j   0.5+0.j  -0.5+0.j  -0.5-0.j ]\n",
      " [ 0.5+0.j  -0.5+0.j  -0. +0.5j -0. -0.5j]]\n"
     ]
    }
   ],
   "source": [
    "print(\"Eigen vectors:\")\n",
    "print(np.round(eig_vec,3))"
   ]
  },
  {
   "cell_type": "markdown",
   "metadata": {},
   "source": [
    "\n",
    "\n",
    "\n",
    "* The other eigenvalues get smaller.\n",
    "\n",
    "    Correct\n",
    "    So their eigenvectors will decay away on power iteration.\n",
    "\n",
    "\n",
    "* The complex number disappear.\n",
    "\n",
    "\n",
    "* None of the other options.\n",
    "\n",
    "\n",
    "* There is now a probability to move to any website.\n",
    "\n",
    "    Correct\n",
    "    This helps the power iteration settle down as it will spread out the distribution of Pats\n",
    "\n",
    "\n",
    "* It makes the eigenvalue we want bigger.\n",
    "\n",
    "\n"
   ]
  },
  {
   "cell_type": "markdown",
   "metadata": {},
   "source": [
    "### 4.  \n",
    "\n",
    "Given the matrix $A = \\begin{bmatrix} 3/2 & -1 \\\\ -1/2 & 1/2 \\end{bmatrix}$, calculate its characteristic polynomial.\n",
    "\n",
    "\n",
    "$\\lambda^2 - 2\\lambda + \\frac{1}{4}λ$ "
   ]
  },
  {
   "cell_type": "code",
   "execution_count": 13,
   "metadata": {},
   "outputs": [],
   "source": [
    "A = np.matrix([[3/2 , -1],\n",
    "               [-1/2,1/2]])\n",
    "\n",
    "eig_val , eig_vec = np.linalg.eig(A)"
   ]
  },
  {
   "cell_type": "markdown",
   "metadata": {},
   "source": [
    "By solving the characteristic polynomial above or otherwise, calculate the eigenvalues of the matrix  "
   ]
  },
  {
   "cell_type": "code",
   "execution_count": 14,
   "metadata": {},
   "outputs": [
    {
     "data": {
      "text/plain": [
       "array([1.8660254, 0.1339746])"
      ]
     },
     "execution_count": 14,
     "metadata": {},
     "output_type": "execute_result"
    }
   ],
   "source": [
    "eig_val"
   ]
  },
  {
   "cell_type": "code",
   "execution_count": 24,
   "metadata": {},
   "outputs": [
    {
     "data": {
      "text/plain": [
       "matrix([[ 0.9390708 ,  0.59069049],\n",
       "        [-0.34372377,  0.80689822]])"
      ]
     },
     "execution_count": 24,
     "metadata": {},
     "output_type": "execute_result"
    }
   ],
   "source": [
    "eig_vec"
   ]
  },
  {
   "cell_type": "code",
   "execution_count": 18,
   "metadata": {},
   "outputs": [],
   "source": [
    "eig_basis = eig_vec\n",
    "eig_basis_inv = np.linalg.inv(eig_basis)"
   ]
  },
  {
   "cell_type": "markdown",
   "metadata": {},
   "source": [
    "Form the matrix $C$ whose left column is the vector $v_{1}$ and whose right column is $v_{2}$ from immediately above.\n",
    "\n",
    "By calculating $D = C^{-1}AC$ or by using another method, find the diagonal matrix $D$."
   ]
  },
  {
   "cell_type": "code",
   "execution_count": 22,
   "metadata": {},
   "outputs": [
    {
     "data": {
      "text/plain": [
       "array([[1.866, 0.   ],\n",
       "       [0.   , 0.134]])"
      ]
     },
     "execution_count": 22,
     "metadata": {},
     "output_type": "execute_result"
    }
   ],
   "source": [
    "D = np.round (np.matmul(eig_basis_inv,np.matmul(A,eig_basis)) ,3 )\n",
    "\n",
    "D"
   ]
  },
  {
   "cell_type": "markdown",
   "metadata": {},
   "source": [
    "By using the diagonalisation above or otherwise, calculate $A^2$\n",
    " ."
   ]
  },
  {
   "cell_type": "code",
   "execution_count": 23,
   "metadata": {},
   "outputs": [
    {
     "data": {
      "text/plain": [
       "matrix([[ 2.75, -2.  ],\n",
       "        [-1.  ,  0.75]])"
      ]
     },
     "execution_count": 23,
     "metadata": {},
     "output_type": "execute_result"
    }
   ],
   "source": [
    "matrix_power(A,2)"
   ]
  },
  {
   "cell_type": "code",
   "execution_count": null,
   "metadata": {},
   "outputs": [],
   "source": []
  }
 ],
 "metadata": {
  "kernelspec": {
   "display_name": "Python 3",
   "language": "python",
   "name": "python3"
  },
  "language_info": {
   "codemirror_mode": {
    "name": "ipython",
    "version": 3
   },
   "file_extension": ".py",
   "mimetype": "text/x-python",
   "name": "python",
   "nbconvert_exporter": "python",
   "pygments_lexer": "ipython3",
   "version": "3.7.6"
  }
 },
 "nbformat": 4,
 "nbformat_minor": 2
}
