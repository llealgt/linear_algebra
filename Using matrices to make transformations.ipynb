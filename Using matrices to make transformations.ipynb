{
 "cells": [
  {
   "cell_type": "markdown",
   "metadata": {},
   "source": [
    "# Using matrices to make transformations\n",
    "\n",
    "Code for Coursera quiz on matrices to make transformations for week 3 of https://www.coursera.org/learn/linear-algebra-machine-learning"
   ]
  },
  {
   "cell_type": "code",
   "execution_count": 9,
   "metadata": {},
   "outputs": [],
   "source": [
    "import numpy as np\n",
    "import matplotlib.pyplot as plt"
   ]
  },
  {
   "cell_type": "markdown",
   "metadata": {},
   "source": [
    "Matrices make transformations on vectors, potentially changing their magnitude and direction.\n",
    "\n",
    "If we have two unit vectors (in orange) and another vector, $r=[3,2]$ (in pink), before any transformations - these look like this:\n",
    "\n",
    "<img src=\"https://d3c33hcgiwev3.cloudfront.net/imageAssetProxy.v1/ecxsu9YfEeeB6wrT5AOI1g_c1ca5956d7d39d59aed1a9cda50005bb_q1.1.png?expiry=1582502400000&hmac=Dz65wmd2zLg9TJDMG-ViK7a4damAPYe3l4jE4rkjixA\">\n",
    "\n",
    "\n",
    "Take the matrix, $A=[[1/2,−1],[0,3/4]]$, see how it transforms the unit vectors and the vector, r,\n",
    "\n",
    "<img src=\"https://d3c33hcgiwev3.cloudfront.net/imageAssetProxy.v1/qId37tYfEeeeiBK2pPwzgg_6b568f9f1bd1679308b345f4337e36a1_q1.2.png?expiry=1582502400000&hmac=iwgwYs3Pb1-c6bgjwbkDu-zOZeoewqUJ1HoP0AFeTwU\">\n",
    "\n",
    "What new vector, r′, does A transform r to? Specifically, what does the following equal?\n",
    "\n",
    "$Ar=[[1/2,−1],[0,3/4]][3,2]=$"
   ]
  },
  {
   "cell_type": "code",
   "execution_count": 2,
   "metadata": {},
   "outputs": [],
   "source": [
    "A = np.array([[1/2,-1],[0,3/4]])\n",
    "r = np.array([3,2])"
   ]
  },
  {
   "cell_type": "code",
   "execution_count": 4,
   "metadata": {},
   "outputs": [
    {
     "name": "stdout",
     "output_type": "stream",
     "text": [
      "[-0.5  1.5]\n"
     ]
    }
   ],
   "source": [
    "r_prime = np.matmul(A,r)\n",
    "\n",
    "print(r_prime)"
   ]
  },
  {
   "cell_type": "markdown",
   "metadata": {},
   "source": [
    "Let's use the same matrix, $A=[[1/2,−1],[0,3/4]]$, from the previous question.\n",
    "\n",
    "Type an expression for the vector, $s=A[−2,4]$."
   ]
  },
  {
   "cell_type": "code",
   "execution_count": 6,
   "metadata": {},
   "outputs": [
    {
     "name": "stdout",
     "output_type": "stream",
     "text": [
      "[-5.  3.]\n"
     ]
    }
   ],
   "source": [
    "s = np.matmul(A,np.array([-2,4]))\n",
    "\n",
    "print(s)"
   ]
  },
  {
   "cell_type": "markdown",
   "metadata": {},
   "source": [
    "Select the transformation which best corresponds to the matrix, $M=[[−1/2,1/2],[1/2,1/2]]$."
   ]
  },
  {
   "cell_type": "code",
   "execution_count": 20,
   "metadata": {},
   "outputs": [
    {
     "data": {
      "image/png": "[encoded data removed]",
      "text/plain": [
       "<Figure size 432x288 with 1 Axes>"
      ]
     },
     "metadata": {
      "needs_background": "light"
     },
     "output_type": "display_data"
    }
   ],
   "source": [
    "M = np.array([[-1/2,1/2],\n",
    "              [1/2,1/2]])\n",
    "\n",
    "i_vector = M[:,0]\n",
    "j_vector = M[:,1]\n",
    "\n",
    "plt.arrow(0,0,*i_vector,length_includes_head=True,head_width=0.06)\n",
    "plt.arrow(0,0,*j_vector,length_includes_head=True,head_width=0.06)\n",
    "\n",
    "plt.xlim(-1,1)\n",
    "plt.ylim(-1,1)\n",
    "plt.show()"
   ]
  },
  {
   "cell_type": "markdown",
   "metadata": {},
   "source": [
    "At the bottom of the “The Ambassadors”, in the middle of the floor, there is a skull that Holbein has already applied a matrix transformation to!\n",
    "\n",
    "To undo the transformation, build a matrix which is firstly a shear in the y direction followed by a scaling in y direction. I.e., multiply the matrices,\n",
    "\n",
    "$M=[[1,0],[0,8]] [[1,0],[-1/2,1]]$"
   ]
  },
  {
   "cell_type": "code",
   "execution_count": 26,
   "metadata": {},
   "outputs": [
    {
     "name": "stdout",
     "output_type": "stream",
     "text": [
      "[[ 1.  0.]\n",
      " [-4.  8.]]\n"
     ]
    }
   ],
   "source": [
    "M = np.matmul(np.array([[1,0],[0,8]]),np.array([[1,0],[-1/2,1]]))\n",
    "\n",
    "print(M)"
   ]
  },
  {
   "cell_type": "markdown",
   "metadata": {},
   "source": [
    "Use your answer from the previous question to transform the skull back to normal. Change the values of the matrix and press Go! to score on this question.\n",
    "\n",
    "You can also use this example to experiment with other matrix transformations. Try some of the ones in this quiz. Have a play!\n",
    "\n"
   ]
  },
  {
   "cell_type": "code",
   "execution_count": 28,
   "metadata": {},
   "outputs": [
    {
     "name": "stdout",
     "output_type": "stream",
     "text": [
      "[[ 1.    -0.   ]\n",
      " [ 0.5    0.125]]\n"
     ]
    }
   ],
   "source": [
    "M_inv = np.linalg.inv(M)\n",
    "\n",
    "print(M_inv)"
   ]
  },
  {
   "cell_type": "code",
   "execution_count": null,
   "metadata": {},
   "outputs": [],
   "source": []
  }
 ],
 "metadata": {
  "kernelspec": {
   "display_name": "Python 3",
   "language": "python",
   "name": "python3"
  },
  "language_info": {
   "codemirror_mode": {
    "name": "ipython",
    "version": 3
   },
   "file_extension": ".py",
   "mimetype": "text/x-python",
   "name": "python",
   "nbconvert_exporter": "python",
   "pygments_lexer": "ipython3",
   "version": "3.7.6"
  }
 },
 "nbformat": 4,
 "nbformat_minor": 4
}
